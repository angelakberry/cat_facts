{
 "cells": [
  {
   "cell_type": "code",
   "execution_count": null,
   "id": "11b2f221",
   "metadata": {},
   "outputs": [],
   "source": [
    "import pandas as pd\n",
    "import requests"
   ]
  },
  {
   "cell_type": "code",
   "execution_count": null,
   "id": "e40a1d82",
   "metadata": {},
   "outputs": [],
   "source": [
    "url = \"https://meowfacts.herokuapp.com/?count=10\"\n",
    "response = requests.get(url)"
   ]
  },
  {
   "cell_type": "code",
   "execution_count": null,
   "id": "5a0f5fe9",
   "metadata": {},
   "outputs": [],
   "source": [
    "# Check if the request was successful\n",
    "if response.status_code == 200:\n",
    "    data = response.json()\n",
    "    print('success!')\n",
    "else:\n",
    "    print(f\"Error: {response.status_code}\")\n",
    "\n",
    "df = pd.DataFrame(data)\n",
    "print(df)"
   ]
  },
  {
   "cell_type": "markdown",
   "id": "f181d628",
   "metadata": {},
   "source": [
    "What magic just happened?\n",
    "\n",
    "import pandas as pd: \n",
    "    -This imports the Pandas library as we need it to show the data in a meaningful way.\n",
    "\n",
    "import requests: \n",
    "    -This imports the Requests library, which is used for making HTTP requests (like getting data from websites or APIs). In this case, it will help us fetch data from a web API.\n",
    "\n",
    "url = \"https://meowfacts.herokuapp.com/?count=10\"\n",
    "    -This line defines the URL from which we'll request data. The URL points to an API that provides random cat facts. The query parameter ?count=10 specifies that we want 10 cat facts.\n",
    "\n",
    "response = requests.get(url)\n",
    "requests.get(url): \n",
    "    -This sends an HTTP GET request to the URL we defined earlier. It fetches the data from the server and stores the response in the response variable.\n",
    "\n",
    "#Check if the request was successful\n",
    "if response.status_code == 200:\n",
    "    -response.status_code == 200:\n",
    "        -This checks the status of the response. HTTP status code 200 means \"OK\", indicating that the request was successful. If the request was successful, the program will continue to process the data.\n",
    "\n",
    "data = response.json()\n",
    "\n",
    "print('success!')\n",
    "\n",
    "response.json(): \n",
    "    -If the request was successful, the response will contain data (usually in JSON format). This converts the JSON response into a Python dictionary (or list, depending on the structure).\n",
    "print('success!'): \n",
    "    -This prints a success message to the console, confirming that we’ve received data from the API.\n",
    "\n",
    "else:\n",
    "print(f\"Error: {response.status_code}\")\n",
    "\n",
    "else: \n",
    "    -If the status code isn't 200, the code will execute this block, indicating that there was an issue with the request (like a wrong URL or server error).\n",
    "print(f\"Error: {response.status_code}\"): \n",
    "    -This prints the error message, displaying the actual HTTP status code (e.g., 404 for not found, 500 for server errors).\n",
    "\n",
    "df = pd.DataFrame(data)\n",
    "\n",
    "pd.DataFrame(data): \n",
    "    -After successfully retrieving the data, we use Pandas to create a DataFrame.\n",
    "print(df): \n",
    "    -Finally, this prints the DataFrame to the console, showing the cat facts in a clean table format, so you can easily read and analyze the data."
   ]
  }
 ],
 "metadata": {
  "language_info": {
   "name": "python"
  }
 },
 "nbformat": 4,
 "nbformat_minor": 5
}
